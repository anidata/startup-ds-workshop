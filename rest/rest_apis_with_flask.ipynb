{
 "cells": [
  {
   "cell_type": "markdown",
   "metadata": {},
   "source": [
    "# REST API with Flask\n"
   ]
  },
  {
   "cell_type": "markdown",
   "metadata": {},
   "source": [
    "###  What is a REST API?"
   ]
  },
  {
   "cell_type": "markdown",
   "metadata": {},
   "source": [
    "**Representational State Transfer (REST)** - Standard way of communicating web resources such as text and images in formats such as JSON and XML.\n",
    "\n",
    "**Application Programming Interface (API)** - A set of subroutines, protocols, and tools that a peice of software uses for communicating with other software components.\n",
    "\n",
    "**REST API** - Software implementation for web services (i.e. retreiving/posting/updating resources on the web)"
   ]
  },
  {
   "cell_type": "markdown",
   "metadata": {},
   "source": [
    "### Why is it useful?"
   ]
  },
  {
   "cell_type": "markdown",
   "metadata": {},
   "source": [
    "- Standard way of connecting with cloud services\n",
    "- Leverages less bandwith due to its structure - more efficient\n",
    "- complies with Hypertext Tranfer Protocol (HTTP)\n",
    "- REST calls are **stateless** which means they can be readily redeployed and can scale to accomodate load changes"
   ]
  },
  {
   "cell_type": "markdown",
   "metadata": {},
   "source": [
    "## Flask"
   ]
  },
  {
   "cell_type": "markdown",
   "metadata": {},
   "source": [
    "<img src=\"pictures/logo.png\"/>"
   ]
  },
  {
   "cell_type": "markdown",
   "metadata": {},
   "source": [
    "Flask Is a web framework used to integrate python with websites and web applications. Web sites built with Flask can be as simple as a blog or wiki or as large as a web-based calendar application or commercial website."
   ]
  },
  {
   "cell_type": "markdown",
   "metadata": {},
   "source": [
    "### Why use it?"
   ]
  },
  {
   "cell_type": "markdown",
   "metadata": {},
   "source": [
    "Static websites built with nothing but Html and CSS are limited in their functionality. If we want to write an app or a program in Python before making that program available for others to interact with on a website, Flask is the way to do it."
   ]
  },
  {
   "cell_type": "markdown",
   "metadata": {},
   "source": [
    "### Getting Started"
   ]
  },
  {
   "cell_type": "code",
   "execution_count": 8,
   "metadata": {
    "collapsed": true
   },
   "outputs": [],
   "source": [
    "from flask import Flask\n",
    "app = Flask(__name__)\n",
    "\n",
    "@app.route(\"/\")\n",
    "def hello():\n",
    "    return \"Hello World!\"\n",
    "\n",
    "if __name__ == \"main\":\n",
    "    app.run(debug=True, port = 8000)"
   ]
  },
  {
   "cell_type": "markdown",
   "metadata": {},
   "source": [
    "The route of `\"/\"` simply refers to our homepage. Whatever we tell the function to return is the text we'll see on the homepage of the site. Now you can launch your web browser and type http://localhost:8000 to see this application in action."
   ]
  },
  {
   "cell_type": "markdown",
   "metadata": {},
   "source": [
    "<img src=\"pictures/helloworld.png\"/>"
   ]
  },
  {
   "cell_type": "markdown",
   "metadata": {},
   "source": [
    "You can change the route and corresponding function to display a different page on the same website with a different message. E.g:"
   ]
  },
  {
   "cell_type": "code",
   "execution_count": 6,
   "metadata": {
    "collapsed": false
   },
   "outputs": [],
   "source": [
    "@app.route(\"/myName\")\n",
    "def display_name():\n",
    "    return \"Kaushik\""
   ]
  },
  {
   "cell_type": "markdown",
   "metadata": {},
   "source": [
    "<img src=\"pictures/myName.png\"/>"
   ]
  },
  {
   "cell_type": "markdown",
   "metadata": {},
   "source": [
    "We can also use Flask to display data in JSON, as part of a REST API. For instance, if we wanted to create an API that returned the capitals of US states, it might look something like this:"
   ]
  },
  {
   "cell_type": "markdown",
   "metadata": {},
   "source": [
    "<img src=\"pictures/capitals.png\"/>"
   ]
  },
  {
   "cell_type": "markdown",
   "metadata": {},
   "source": [
    "### SQLAlchemy"
   ]
  },
  {
   "cell_type": "markdown",
   "metadata": {},
   "source": [
    "SQLAlchemy is an object relational mapper or ORM. ORMs allow database applications to work with objects instead of tables and SQL. The operations performed on the objects are translated into database commands behind the scenes by the ORM. This allows us to interact with a databse through Flask without needing to type SQL commands ourselves."
   ]
  },
  {
   "cell_type": "code",
   "execution_count": 18,
   "metadata": {
    "collapsed": false
   },
   "outputs": [],
   "source": [
    "from flask import Flask\n",
    "from flask_sqlalchemy import SQLAlchemy\n",
    "import json\n",
    "app = Flask(__name__)\n",
    "\n",
    "\n",
    "app.config['SQLALCHEMY_DATABASE_URI'] = \"postgresql://localhost:5432/crawler\" # address where the db is running\n",
    "app.config['SQLALCHEMY_TRACK_MODIFICATIONS'] = False\n",
    "db = SQLAlchemy(app)\n",
    "\n",
    "@app.route(\"/\")\n",
    "def hello():\n",
    "    return \"Hello World!\"\n",
    "\n",
    "if __name__ == \"main\":\n",
    "    app.run(debug=True, port = 8000)\n"
   ]
  },
  {
   "cell_type": "markdown",
   "metadata": {},
   "source": [
    "With SQLAlchemy, we just create a class for each table we want to access in the database. Each column of the table is expressed as an attribute of the class. Below, we have an example for the Backpagesite table, which only has two columns - the post id number and the name of the city. "
   ]
  },
  {
   "cell_type": "code",
   "execution_count": 15,
   "metadata": {
    "collapsed": false
   },
   "outputs": [],
   "source": [
    "class Backpagesite(db.Model):\n",
    "    id = db.Column(db.Integer, primary_key=True)\n",
    "    name = db.Column('name', db.String(120))"
   ]
  },
  {
   "cell_type": "markdown",
   "metadata": {},
   "source": [
    "Then we just have to create a route in the Flask app to display the data from the database at a certain endpoint. The Flask-SqlAlchemy extension allows us to search for all entries in the table with the method `Backpagesite.query.all()`. SqlAlchemy turns this into a SQL query behind the scenes so that we don't have to deal with SQL commands in our code. "
   ]
  },
  {
   "cell_type": "code",
   "execution_count": 17,
   "metadata": {
    "collapsed": true
   },
   "outputs": [],
   "source": [
    "@app.route('/api/backpage/cities/', methods=['GET'])\n",
    "def get_all_cities():\n",
    "    cities = (Backpagesite.query.all())\n",
    "\n",
    "    return jsonify({'data': [\n",
    "        dict(id=c.id, city=c.name)\n",
    "        for c in cities\n",
    "    ]})"
   ]
  },
  {
   "cell_type": "markdown",
   "metadata": {},
   "source": [
    "Now, if we go to our browser and type in http://localhost/8000/api/bakcpage/cities/ we can see all the data in the backpagesite table of the database. "
   ]
  },
  {
   "cell_type": "markdown",
   "metadata": {},
   "source": [
    "<img src=\"pictures/cities.png\"/>"
   ]
  },
  {
   "cell_type": "markdown",
   "metadata": {},
   "source": [
    "Creating a tool to access this data with Flask allows other developers easy access to the data. Once the REST API is created, other developers can pull information about a specific post or table from the database with just a couple lines of code.  "
   ]
  },
  {
   "cell_type": "code",
   "execution_count": null,
   "metadata": {
    "collapsed": true
   },
   "outputs": [],
   "source": []
  }
 ],
 "metadata": {
  "anaconda-cloud": {},
  "kernelspec": {
   "display_name": "Python 3",
   "language": "python",
   "name": "python3"
  },
  "language_info": {
   "codemirror_mode": {
    "name": "ipython",
    "version": 3
   },
   "file_extension": ".py",
   "mimetype": "text/x-python",
   "name": "python",
   "nbconvert_exporter": "python",
   "pygments_lexer": "ipython3",
   "version": "3.5.1"
  }
 },
 "nbformat": 4,
 "nbformat_minor": 2
}
